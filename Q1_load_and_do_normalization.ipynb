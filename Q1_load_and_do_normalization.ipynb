{
  "nbformat": 4,
  "nbformat_minor": 0,
  "metadata": {
    "colab": {
      "provenance": [],
      "authorship_tag": "ABX9TyO5wUabBtJsnIbvz2NRvTLU",
      "include_colab_link": true
    },
    "kernelspec": {
      "name": "python3",
      "display_name": "Python 3"
    },
    "language_info": {
      "name": "python"
    }
  },
  "cells": [
    {
      "cell_type": "markdown",
      "metadata": {
        "id": "view-in-github",
        "colab_type": "text"
      },
      "source": [
        "<a href=\"https://colab.research.google.com/github/priyanka742/machine_learning/blob/main/Q1_load_and_do_normalization.ipynb\" target=\"_parent\"><img src=\"https://colab.research.google.com/assets/colab-badge.svg\" alt=\"Open In Colab\"/></a>"
      ]
    },
    {
      "cell_type": "code",
      "execution_count": null,
      "metadata": {
        "id": "AFqn8CN2j0oN"
      },
      "outputs": [],
      "source": [
        "import numpy as np\n",
        "import pandas as pd\n",
        "from sklearn.preprocessing import MinMaxScaler\n"
      ]
    },
    {
      "cell_type": "code",
      "source": [
        "# Load the data from the CSV file\n",
        "data = pd.read_csv(\"new1.csv\")\n",
        "\n",
        "# Separate features and target\n",
        "X = data.iloc[:, :-1]  # Features (all columns except the last one)\n",
        "y = data.iloc[:, -1]   # Target (last column)\n"
      ],
      "metadata": {
        "id": "F0nPWnMij5qH"
      },
      "execution_count": null,
      "outputs": []
    },
    {
      "cell_type": "markdown",
      "source": [
        "Here, we'll use Min-Max scaling to normalize the features to the range [0, 1]."
      ],
      "metadata": {
        "id": "X4dnbvw_kHOw"
      }
    },
    {
      "cell_type": "code",
      "source": [
        "# Initialize the MinMaxScaler\n",
        "scaler = MinMaxScaler()\n",
        "\n",
        "# Fit the scaler to the features and transform them\n",
        "X_normalized = scaler.fit_transform(X)\n"
      ],
      "metadata": {
        "id": "aqdLwejvkUbi"
      },
      "execution_count": null,
      "outputs": []
    },
    {
      "cell_type": "code",
      "source": [
        "# Create a DataFrame with the normalized features\n",
        "normalized_data = pd.DataFrame(X_normalized, columns=X.columns)\n",
        "\n",
        "# Display the normalized data\n",
        "print(normalized_data)\n"
      ],
      "metadata": {
        "colab": {
          "base_uri": "https://localhost:8080/"
        },
        "id": "UDWfy-VykVLe",
        "outputId": "c794b44a-8321-4acd-86e1-1987535ac1af"
      },
      "execution_count": null,
      "outputs": [
        {
          "output_type": "stream",
          "name": "stdout",
          "text": [
            "   experience    salary\n",
            "0    0.000000  0.000000\n",
            "1    0.111111  0.108696\n",
            "2    0.222222  0.173913\n",
            "3    0.333333  0.217391\n",
            "4    0.444444  0.326087\n",
            "5    0.555556  0.391304\n",
            "6    0.666667  0.434783\n",
            "7    0.777778  0.869565\n",
            "8    0.888889  0.978261\n",
            "9    1.000000  1.000000\n"
          ]
        }
      ]
    },
    {
      "cell_type": "markdown",
      "source": [
        "without sklearn\n"
      ],
      "metadata": {
        "id": "wVWLerchi_Lb"
      }
    },
    {
      "cell_type": "code",
      "source": [
        "import numpy as np\n",
        "import pandas as pd\n",
        "\n",
        "# Load the data from the CSV file\n",
        "data = pd.read_csv(\"/content/new1.csv\")\n",
        "\n",
        "# Separate features and target\n",
        "X = data.iloc[:, :-1]  # Features (all columns except the last one)\n",
        "y = data.iloc[:, -1]   # Target (last column)\n",
        "\n",
        "# Manual Min-Max scaling\n",
        "min_vals = X.min()\n",
        "max_vals = X.max()\n",
        "\n",
        "# Normalize the features\n",
        "X_normalized = (X - min_vals) / (max_vals - min_vals)\n",
        "\n",
        "# Create a DataFrame with the normalized features\n",
        "normalized_data = pd.DataFrame(X_normalized, columns=X.columns)\n",
        "\n",
        "# Display the normalized data\n",
        "print(normalized_data)"
      ],
      "metadata": {
        "id": "9fX3ePhm_dU4",
        "colab": {
          "base_uri": "https://localhost:8080/"
        },
        "outputId": "6548c6c0-7e6a-48ca-8e04-3ceda76b13ce"
      },
      "execution_count": null,
      "outputs": [
        {
          "output_type": "stream",
          "name": "stdout",
          "text": [
            "   experience    salary\n",
            "0    0.000000  0.000000\n",
            "1    0.111111  0.108696\n",
            "2    0.222222  0.173913\n",
            "3    0.333333  0.217391\n",
            "4    0.444444  0.326087\n",
            "5    0.555556  0.391304\n",
            "6    0.666667  0.434783\n",
            "7    0.777778  0.869565\n",
            "8    0.888889  0.978261\n",
            "9    1.000000  1.000000\n"
          ]
        }
      ]
    },
    {
      "cell_type": "code",
      "source": [],
      "metadata": {
        "id": "nWc-FOZBkimj"
      },
      "execution_count": null,
      "outputs": []
    },
    {
      "cell_type": "markdown",
      "source": [
        "WITHOUT SKLEARN"
      ],
      "metadata": {
        "id": "Q1cUyFBDhUMu"
      }
    },
    {
      "cell_type": "code",
      "source": [
        "import numpy as np\n",
        "import pandas as pd\n",
        "\n",
        "# Load the data from the CSV file\n",
        "data = pd.read_csv(\"/content/new1.csv\")\n",
        "\n",
        "# Separate features and target\n",
        "X = data.iloc[:, :-1]  # Features (all columns except the last one)\n",
        "y = data.iloc[:, -1]   # Target (last column)\n",
        "\n",
        "# Manual Min-Max scaling\n",
        "min_vals = X.min()\n",
        "max_vals = X.max()\n",
        "\n",
        "# Normalize the features\n",
        "X_normalized = (X - min_vals) / (max_vals - min_vals)\n",
        "\n",
        "# Create a DataFrame with the normalized features\n",
        "normalized_data = pd.DataFrame(X_normalized, columns=X.columns)\n",
        "\n",
        "# Display the normalized data\n",
        "print(normalized_data)"
      ],
      "metadata": {
        "colab": {
          "base_uri": "https://localhost:8080/"
        },
        "id": "Z340TfjphV0w",
        "outputId": "773927b5-2d12-4d48-fb84-d34eaf1d877a"
      },
      "execution_count": 1,
      "outputs": [
        {
          "output_type": "stream",
          "name": "stdout",
          "text": [
            "   experience    salary\n",
            "0    0.000000  0.000000\n",
            "1    0.111111  0.108696\n",
            "2    0.222222  0.173913\n",
            "3    0.333333  0.217391\n",
            "4    0.444444  0.326087\n",
            "5    0.555556  0.391304\n",
            "6    0.666667  0.434783\n",
            "7    0.777778  0.869565\n",
            "8    0.888889  0.978261\n",
            "9    1.000000  1.000000\n"
          ]
        }
      ]
    },
    {
      "cell_type": "code",
      "source": [],
      "metadata": {
        "id": "Ci-jK3HFhcxi"
      },
      "execution_count": null,
      "outputs": []
    }
  ]
}