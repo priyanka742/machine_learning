{
  "nbformat": 4,
  "nbformat_minor": 0,
  "metadata": {
    "colab": {
      "provenance": [],
      "include_colab_link": true
    },
    "kernelspec": {
      "name": "python3",
      "display_name": "Python 3"
    },
    "language_info": {
      "name": "python"
    }
  },
  "cells": [
    {
      "cell_type": "markdown",
      "metadata": {
        "id": "view-in-github",
        "colab_type": "text"
      },
      "source": [
        "<a href=\"https://colab.research.google.com/github/priyanka742/machine_learning/blob/main/Q1_load_and_do_normalization.ipynb\" target=\"_parent\"><img src=\"https://colab.research.google.com/assets/colab-badge.svg\" alt=\"Open In Colab\"/></a>"
      ]
    },
    {
      "cell_type": "code",
      "execution_count": null,
      "metadata": {
        "id": "I5m1z3Ce-cii"
      },
      "outputs": [],
      "source": [
        "import numpy as np\n",
        "import pandas as pd\n",
        "from sklearn.preprocessing import MinMaxScaler\n"
      ]
    },
    {
      "cell_type": "code",
      "source": [
        "# Load the data from the CSV file\n",
        "data = pd.read_csv(\"new1.csv\")\n",
        "\n",
        "# Separate features and target\n",
        "X = data.iloc[:, :-1]  # Features (all columns except the last one)\n",
        "y = data.iloc[:, -1]   # Target (last column)\n"
      ],
      "metadata": {
        "id": "Z5pTB_-F_Bb3"
      },
      "execution_count": 3,
      "outputs": []
    },
    {
      "cell_type": "markdown",
      "source": [
        "## ***Here, we'll use Min-Max scaling to normalize the features to the range [0, 1].***"
      ],
      "metadata": {
        "id": "xKZ1qSXe_KKs"
      }
    },
    {
      "cell_type": "code",
      "source": [
        "# Initialize the MinMaxScaler\n",
        "scaler = MinMaxScaler()\n",
        "\n",
        "# Fit the scaler to the features and transform them\n",
        "X_normalized = scaler.fit_transform(X)\n"
      ],
      "metadata": {
        "id": "L64qKZYf_GRY"
      },
      "execution_count": 4,
      "outputs": []
    },
    {
      "cell_type": "code",
      "source": [
        "# Create a DataFrame with the normalized features\n",
        "normalized_data = pd.DataFrame(X_normalized, columns=X.columns)\n",
        "\n",
        "# Display the normalized data\n",
        "print(normalized_data)\n"
      ],
      "metadata": {
        "colab": {
          "base_uri": "https://localhost:8080/"
        },
        "id": "QwqXjFIc_OTB",
        "outputId": "099b64bd-7e53-45ab-b7a2-ea7238350b20"
      },
      "execution_count": 5,
      "outputs": [
        {
          "output_type": "stream",
          "name": "stdout",
          "text": [
            "   experience    salary\n",
            "0    0.000000  0.000000\n",
            "1    0.111111  0.108696\n",
            "2    0.222222  0.173913\n",
            "3    0.333333  0.217391\n",
            "4    0.444444  0.326087\n",
            "5    0.555556  0.391304\n",
            "6    0.666667  0.434783\n",
            "7    0.777778  0.869565\n",
            "8    0.888889  0.978261\n",
            "9    1.000000  1.000000\n"
          ]
        }
      ]
    },
    {
      "cell_type": "code",
      "source": [],
      "metadata": {
        "id": "9fX3ePhm_dU4"
      },
      "execution_count": null,
      "outputs": []
    }
  ]
}