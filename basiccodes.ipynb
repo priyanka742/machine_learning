{
  "nbformat": 4,
  "nbformat_minor": 0,
  "metadata": {
    "colab": {
      "provenance": []
    },
    "kernelspec": {
      "name": "python3",
      "display_name": "Python 3"
    },
    "language_info": {
      "name": "python"
    }
  },
  "cells": [
    {
      "cell_type": "code",
      "execution_count": null,
      "metadata": {
        "id": "h3fZKn3UveYU"
      },
      "outputs": [],
      "source": []
    },
    {
      "cell_type": "markdown",
      "source": [
        "1.find the perimeter and area of triangle"
      ],
      "metadata": {
        "id": "TT1V6hh8wM9c"
      }
    },
    {
      "cell_type": "code",
      "source": [
        "\n",
        "a = float(input('Enter first side: '))\n",
        "b = float(input('Enter second side: '))\n",
        "c = float(input('Enter third side: '))\n",
        "base = float(input('Enter base of the triangle: '))\n",
        "height=float(input('Enter height of the triangle: '))\n",
        "perimeter=a+b+c\n",
        "area =(base*height)/2\n",
        "print(perimeter)\n",
        "print(area)"
      ],
      "metadata": {
        "colab": {
          "base_uri": "https://localhost:8080/"
        },
        "id": "92sqUuUJwO4F",
        "outputId": "e87c2971-98ab-43aa-9173-caa9e9c44a56"
      },
      "execution_count": 1,
      "outputs": [
        {
          "output_type": "stream",
          "name": "stdout",
          "text": [
            "Enter first side: 4\n",
            "Enter second side: 6\n",
            "Enter third side: 8\n",
            "Enter base of the triangle: 4\n",
            "Enter height of the triangle: 5\n",
            "18.0\n",
            "10.0\n"
          ]
        }
      ]
    },
    {
      "cell_type": "code",
      "source": [],
      "metadata": {
        "id": "Q4l4Sz6f0SBT"
      },
      "execution_count": null,
      "outputs": []
    },
    {
      "cell_type": "markdown",
      "source": [
        "2.swap two numbers"
      ],
      "metadata": {
        "id": "bwbeDlY20t_u"
      }
    },
    {
      "cell_type": "code",
      "source": [
        "x = input('Enter value of x: ')\n",
        "y = input('Enter value of y: ')\n",
        "\n",
        "temp = x\n",
        "x = y\n",
        "y = temp\n",
        "print(\"the value of x after swapping:\",x)\n",
        "print(\"the value of y after swapping:\",y)\n"
      ],
      "metadata": {
        "colab": {
          "base_uri": "https://localhost:8080/"
        },
        "id": "EL9chzVj03_i",
        "outputId": "609bfbf8-886f-49b4-bbeb-f43824a42fb8"
      },
      "execution_count": 4,
      "outputs": [
        {
          "output_type": "stream",
          "name": "stdout",
          "text": [
            "Enter value of x: 5\n",
            "Enter value of y: 9\n",
            "the value of x after swapping: 9\n",
            "the value of y after swapping: 5\n"
          ]
        }
      ]
    },
    {
      "cell_type": "code",
      "source": [],
      "metadata": {
        "id": "RkI3dtxe1YNz"
      },
      "execution_count": null,
      "outputs": []
    },
    {
      "cell_type": "markdown",
      "source": [
        "3.check if the input number is odd or even"
      ],
      "metadata": {
        "id": "nxaj3ENn1pSI"
      }
    },
    {
      "cell_type": "code",
      "source": [
        "num = int(input(\"Enter a number: \"))\n",
        "if (num % 2) == 0:\n",
        "  print(\"the number is even\" )\n",
        "else:\n",
        "  print(\"the number is odd\")"
      ],
      "metadata": {
        "colab": {
          "base_uri": "https://localhost:8080/"
        },
        "id": "ghDhUTqj3art",
        "outputId": "27417246-160d-40cc-9880-6b9f75be41c7"
      },
      "execution_count": 6,
      "outputs": [
        {
          "output_type": "stream",
          "name": "stdout",
          "text": [
            "Enter a number: 6\n",
            "the number is even\n"
          ]
        }
      ]
    },
    {
      "cell_type": "markdown",
      "source": [
        "**4.check if a number is prime number or not**"
      ],
      "metadata": {
        "id": "FUwyuxHA34oy"
      }
    },
    {
      "cell_type": "code",
      "source": [
        "num = int(input(\"Enter a number: \"))\n",
        "flag = False\n",
        "if num == 1:\n",
        "    print(num, \"is not a prime number\")\n",
        "elif num > 1:\n",
        "  for i in range(2, num):\n",
        "    if (num % i) == 0:\n",
        "      flag = True\n",
        "      break\n",
        "\n",
        "  if flag:\n",
        "        print(num, \"is not a prime number\")\n",
        "  else:\n",
        "        print(num, \"is a prime number\")"
      ],
      "metadata": {
        "colab": {
          "base_uri": "https://localhost:8080/"
        },
        "id": "IR6jYlAQ4M4a",
        "outputId": "e1da4579-8560-4a81-844a-41bd84c2200f"
      },
      "execution_count": 16,
      "outputs": [
        {
          "output_type": "stream",
          "name": "stdout",
          "text": [
            "Enter a number: 52\n",
            "52 is not a prime number\n"
          ]
        }
      ]
    },
    {
      "cell_type": "code",
      "source": [],
      "metadata": {
        "id": "ERtdAscH5w4R"
      },
      "execution_count": null,
      "outputs": []
    },
    {
      "cell_type": "markdown",
      "source": [
        "5.check if a given number is positive or negative"
      ],
      "metadata": {
        "id": "z_wwxHRw6YEL"
      }
    },
    {
      "cell_type": "code",
      "source": [
        "num = float(input(\"Enter a number: \"))\n",
        "if num > 0:\n",
        "   print(\"Positive number\")\n",
        "elif num == 0:\n",
        "   print(\"Zero\")\n",
        "else:\n",
        "   print(\"Negative number\")"
      ],
      "metadata": {
        "colab": {
          "base_uri": "https://localhost:8080/"
        },
        "id": "9kVbtAWz6gFR",
        "outputId": "a9ec2638-97ac-4163-c636-78d534152bd8"
      },
      "execution_count": 18,
      "outputs": [
        {
          "output_type": "stream",
          "name": "stdout",
          "text": [
            "Enter a number: -2\n",
            "Negative number\n"
          ]
        }
      ]
    },
    {
      "cell_type": "code",
      "source": [],
      "metadata": {
        "id": "-491EK3769u2"
      },
      "execution_count": null,
      "outputs": []
    }
  ]
}