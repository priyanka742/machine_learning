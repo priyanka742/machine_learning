{
  "nbformat": 4,
  "nbformat_minor": 0,
  "metadata": {
    "colab": {
      "provenance": []
    },
    "kernelspec": {
      "name": "python3",
      "display_name": "Python 3"
    },
    "language_info": {
      "name": "python"
    }
  },
  "cells": [
    {
      "cell_type": "code",
      "execution_count": null,
      "metadata": {
        "id": "lmuodCKZyKRy"
      },
      "outputs": [],
      "source": []
    },
    {
      "cell_type": "markdown",
      "source": [
        "**bitwise operators**"
      ],
      "metadata": {
        "id": "f4EoMjlLyPkN"
      }
    },
    {
      "cell_type": "code",
      "source": [
        "print(8 & 12)\n",
        "print(0xE & 0XF)"
      ],
      "metadata": {
        "colab": {
          "base_uri": "https://localhost:8080/"
        },
        "id": "Y7DTGtJkyRdc",
        "outputId": "39399ef8-36c0-48cb-c70a-5f07fe7a55ac"
      },
      "execution_count": 3,
      "outputs": [
        {
          "output_type": "stream",
          "name": "stdout",
          "text": [
            "8\n",
            "14\n"
          ]
        }
      ]
    },
    {
      "cell_type": "code",
      "source": [
        "print(8 | 12)\n",
        "print(0xE | 0XF)"
      ],
      "metadata": {
        "colab": {
          "base_uri": "https://localhost:8080/"
        },
        "id": "SyQlvuJ4yYnn",
        "outputId": "79becb6f-e52c-4cc0-c77b-0b407442c419"
      },
      "execution_count": 4,
      "outputs": [
        {
          "output_type": "stream",
          "name": "stdout",
          "text": [
            "12\n",
            "15\n"
          ]
        }
      ]
    },
    {
      "cell_type": "code",
      "source": [
        "print(8 ^ 12)\n",
        "print(0xE ^ 0XF)"
      ],
      "metadata": {
        "colab": {
          "base_uri": "https://localhost:8080/"
        },
        "id": "IRjxBmxgy4Tb",
        "outputId": "c4064590-ddcf-40f7-fe29-ee91ac2290f4"
      },
      "execution_count": 5,
      "outputs": [
        {
          "output_type": "stream",
          "name": "stdout",
          "text": [
            "4\n",
            "1\n"
          ]
        }
      ]
    },
    {
      "cell_type": "code",
      "source": [],
      "metadata": {
        "id": "Y6ZypeRCzABw"
      },
      "execution_count": null,
      "outputs": []
    },
    {
      "cell_type": "markdown",
      "source": [
        "**LEFT AND RIGHT SHIFT**"
      ],
      "metadata": {
        "id": "lRcAaOO61K5k"
      }
    },
    {
      "cell_type": "code",
      "source": [
        "print(10 >>1)\n",
        "print(10 >> 2)"
      ],
      "metadata": {
        "colab": {
          "base_uri": "https://localhost:8080/"
        },
        "id": "BP324fN-1RWz",
        "outputId": "2bf2be5c-6719-4358-ba3a-af90d55cfa0f"
      },
      "execution_count": 7,
      "outputs": [
        {
          "output_type": "stream",
          "name": "stdout",
          "text": [
            "5\n",
            "2\n"
          ]
        }
      ]
    },
    {
      "cell_type": "code",
      "source": [
        "print(10 <<1)\n",
        "print(10 << 2)"
      ],
      "metadata": {
        "colab": {
          "base_uri": "https://localhost:8080/"
        },
        "id": "7OCy1tlk1XYe",
        "outputId": "3d046a55-5234-4b38-b50f-466dafd5f181"
      },
      "execution_count": 8,
      "outputs": [
        {
          "output_type": "stream",
          "name": "stdout",
          "text": [
            "20\n",
            "40\n"
          ]
        }
      ]
    },
    {
      "cell_type": "code",
      "source": [],
      "metadata": {
        "id": "M3H_qwET1kOi"
      },
      "execution_count": null,
      "outputs": []
    },
    {
      "cell_type": "markdown",
      "source": [
        "**assignment operators**"
      ],
      "metadata": {
        "id": "MPfidD1m1l15"
      }
    },
    {
      "cell_type": "code",
      "source": [
        "a=8\n",
        "print(a)\n",
        "a+=3\n",
        "print(a)\n",
        "a-=6\n",
        "print(a)\n",
        "a*=6\n",
        "print(a)\n",
        "a/=6\n",
        "print(a)\n",
        "a%=6\n",
        "print(a)\n",
        "a//=6\n",
        "print(a)\n",
        "a**=6\n",
        "print(a)\n",
        "a=10\n",
        "a &=6\n",
        "print(a)\n",
        "a|=6\n",
        "print(a)\n",
        "a<<=6\n",
        "print(a)\n",
        "a>>=6\n",
        "print(a)"
      ],
      "metadata": {
        "colab": {
          "base_uri": "https://localhost:8080/"
        },
        "id": "aTkwdkdd13zy",
        "outputId": "68cf7159-7274-415d-f96e-15ff5e3db193"
      },
      "execution_count": 15,
      "outputs": [
        {
          "output_type": "stream",
          "name": "stdout",
          "text": [
            "8\n",
            "11\n",
            "5\n",
            "30\n",
            "5.0\n",
            "5.0\n",
            "0.0\n",
            "0.0\n",
            "2\n",
            "6\n",
            "384\n",
            "6\n"
          ]
        }
      ]
    },
    {
      "cell_type": "code",
      "source": [],
      "metadata": {
        "id": "yv2S5GnI1845"
      },
      "execution_count": null,
      "outputs": []
    },
    {
      "cell_type": "markdown",
      "source": [
        "identity and membership operators"
      ],
      "metadata": {
        "id": "nKzsofpc3MuW"
      }
    },
    {
      "cell_type": "code",
      "source": [
        "x=[\"hubli\",\"belgaum\"]\n",
        "y=[\"hubli\",\"belgaum\"]\n",
        "z=x\n",
        "print(z is x)\n",
        "print(x is y)\n"
      ],
      "metadata": {
        "colab": {
          "base_uri": "https://localhost:8080/"
        },
        "id": "B1uf0mB43qS1",
        "outputId": "575fee4e-8240-4046-c06e-02284dd243f2"
      },
      "execution_count": 22,
      "outputs": [
        {
          "output_type": "stream",
          "name": "stdout",
          "text": [
            "True\n",
            "False\n"
          ]
        }
      ]
    },
    {
      "cell_type": "code",
      "source": [
        "x=[\"hubli\",\"belgaum\"]\n",
        "y=[\"hubli\",\"belgaum\"]\n",
        "z=x\n",
        "z=y\n",
        "print(z is x)\n",
        "print(x is y)\n",
        "print(z is y)"
      ],
      "metadata": {
        "colab": {
          "base_uri": "https://localhost:8080/"
        },
        "id": "stPH5S4y38HZ",
        "outputId": "c92a7eda-d008-4c8d-85e9-9b9ea507c50e"
      },
      "execution_count": 24,
      "outputs": [
        {
          "output_type": "stream",
          "name": "stdout",
          "text": [
            "False\n",
            "False\n",
            "True\n"
          ]
        }
      ]
    },
    {
      "cell_type": "code",
      "source": [
        "x=[\"hubli\",\"belgaum\"]\n",
        "y=[\"hubli\",\"belgaum\"]\n",
        "z=x\n",
        "z=y\n",
        "print(z is not x)\n",
        "print(x is y)\n",
        "print(z is y)"
      ],
      "metadata": {
        "colab": {
          "base_uri": "https://localhost:8080/"
        },
        "id": "uAQwUXpP4z4s",
        "outputId": "133486b2-4869-4df6-85b6-160a39cf859c"
      },
      "execution_count": 25,
      "outputs": [
        {
          "output_type": "stream",
          "name": "stdout",
          "text": [
            "True\n",
            "False\n",
            "True\n"
          ]
        }
      ]
    },
    {
      "cell_type": "code",
      "source": [
        "x=[\"hubli\",\"belgaum\"]\n",
        "y=[\"hubli\",\"belgaum\"]\n",
        "\n",
        "print(\"hubli\" in x)\n",
        "print(\"Hubli\" in x)"
      ],
      "metadata": {
        "colab": {
          "base_uri": "https://localhost:8080/"
        },
        "id": "Ehpc2Ewl4_am",
        "outputId": "59d2ddbd-8bb1-4654-8544-557491cf12b3"
      },
      "execution_count": 29,
      "outputs": [
        {
          "output_type": "stream",
          "name": "stdout",
          "text": [
            "True\n",
            "False\n"
          ]
        }
      ]
    },
    {
      "cell_type": "code",
      "source": [],
      "metadata": {
        "id": "5E7xxUia5LpQ"
      },
      "execution_count": null,
      "outputs": []
    },
    {
      "cell_type": "markdown",
      "source": [
        "**while and for loop**"
      ],
      "metadata": {
        "id": "FP6KFlkE5pyU"
      }
    },
    {
      "cell_type": "code",
      "source": [
        "num=int(input(\"enter the number\"))\n",
        "while num<=9:\n",
        "  print(\"number is single digit\")\n",
        "  break\n",
        "while num>9 and num<=99:\n",
        "  print(\"the number is double digit\")\n",
        "  break\n",
        "else:\n",
        "  print(\"has more than 2 digits\")"
      ],
      "metadata": {
        "colab": {
          "base_uri": "https://localhost:8080/"
        },
        "id": "B5l_6F4s5tq5",
        "outputId": "8adea053-005d-4b4c-c2f4-de57c3239c0e"
      },
      "execution_count": 37,
      "outputs": [
        {
          "output_type": "stream",
          "name": "stdout",
          "text": [
            "enter the number55\n",
            "the number is double digit\n"
          ]
        }
      ]
    },
    {
      "cell_type": "code",
      "source": [
        "for x in range(6):\n",
        "  print(x)"
      ],
      "metadata": {
        "colab": {
          "base_uri": "https://localhost:8080/"
        },
        "id": "m_Idt0j0617Z",
        "outputId": "64335587-cc25-457a-e6ca-d3eaa812972f"
      },
      "execution_count": 38,
      "outputs": [
        {
          "output_type": "stream",
          "name": "stdout",
          "text": [
            "0\n",
            "1\n",
            "2\n",
            "3\n",
            "4\n",
            "5\n"
          ]
        }
      ]
    },
    {
      "cell_type": "code",
      "source": [
        "for x in range(1,6):\n",
        "  print(x)"
      ],
      "metadata": {
        "colab": {
          "base_uri": "https://localhost:8080/"
        },
        "id": "M23NH7W47ScT",
        "outputId": "08416d13-cee3-430f-b62a-a692a5feae45"
      },
      "execution_count": 39,
      "outputs": [
        {
          "output_type": "stream",
          "name": "stdout",
          "text": [
            "1\n",
            "2\n",
            "3\n",
            "4\n",
            "5\n"
          ]
        }
      ]
    },
    {
      "cell_type": "code",
      "source": [
        "for x in range(1,20,3):\n",
        "  print(x)"
      ],
      "metadata": {
        "colab": {
          "base_uri": "https://localhost:8080/"
        },
        "id": "qm12qGIn7jih",
        "outputId": "e18f1bf3-6321-44e3-c904-b6c134042f72"
      },
      "execution_count": 41,
      "outputs": [
        {
          "output_type": "stream",
          "name": "stdout",
          "text": [
            "1\n",
            "4\n",
            "7\n",
            "10\n",
            "13\n",
            "16\n",
            "19\n"
          ]
        }
      ]
    },
    {
      "cell_type": "code",
      "source": [
        "for x in range(9):\n",
        "  print(\"single digit number\")"
      ],
      "metadata": {
        "colab": {
          "base_uri": "https://localhost:8080/"
        },
        "id": "NU4vs8-v73ny",
        "outputId": "e37b1673-7eb7-45e1-dfc7-0afc89674921"
      },
      "execution_count": 42,
      "outputs": [
        {
          "output_type": "stream",
          "name": "stdout",
          "text": [
            "single digit number\n",
            "single digit number\n",
            "single digit number\n",
            "single digit number\n",
            "single digit number\n",
            "single digit number\n",
            "single digit number\n",
            "single digit number\n",
            "single digit number\n"
          ]
        }
      ]
    },
    {
      "cell_type": "code",
      "source": [
        "for x in range(5,9):\n",
        "  print(\"single digit number\")"
      ],
      "metadata": {
        "colab": {
          "base_uri": "https://localhost:8080/"
        },
        "id": "MFlnkt4K8MSG",
        "outputId": "de5621ea-cac3-4261-dc9f-44f64dd7eb4f"
      },
      "execution_count": 43,
      "outputs": [
        {
          "output_type": "stream",
          "name": "stdout",
          "text": [
            "single digit number\n",
            "single digit number\n",
            "single digit number\n",
            "single digit number\n"
          ]
        }
      ]
    },
    {
      "cell_type": "code",
      "source": [
        "for x in range(5,9):\n",
        "  print(\"single digit number\")\n",
        "for x in range(0,99,10):\n",
        "  print(\"double digit number\")"
      ],
      "metadata": {
        "colab": {
          "base_uri": "https://localhost:8080/"
        },
        "id": "0Nj3xG_-8PbI",
        "outputId": "1f4fed5c-b6ce-43b9-eaa4-5cbc65477f07"
      },
      "execution_count": 44,
      "outputs": [
        {
          "output_type": "stream",
          "name": "stdout",
          "text": [
            "single digit number\n",
            "single digit number\n",
            "single digit number\n",
            "single digit number\n",
            "double digit number\n",
            "double digit number\n",
            "double digit number\n",
            "double digit number\n",
            "double digit number\n",
            "double digit number\n",
            "double digit number\n",
            "double digit number\n",
            "double digit number\n",
            "double digit number\n"
          ]
        }
      ]
    },
    {
      "cell_type": "code",
      "source": [
        "places=[\"hubli\", \"haveri\",\"belgaum\",\"bangalore\"]\n",
        "for x in places:\n",
        "  print(x)\n",
        "  if x==\"belgaum\":\n",
        "    print(\"found\")\n",
        "    break"
      ],
      "metadata": {
        "colab": {
          "base_uri": "https://localhost:8080/"
        },
        "id": "LBKc4to-8klF",
        "outputId": "400791d0-aab3-4a72-91ca-4a3575270382"
      },
      "execution_count": 46,
      "outputs": [
        {
          "output_type": "stream",
          "name": "stdout",
          "text": [
            "hubli\n",
            "haveri\n",
            "belgaum\n",
            "found\n"
          ]
        }
      ]
    },
    {
      "cell_type": "code",
      "source": [],
      "metadata": {
        "id": "H0J0Becq9Sts"
      },
      "execution_count": null,
      "outputs": []
    }
  ]
}