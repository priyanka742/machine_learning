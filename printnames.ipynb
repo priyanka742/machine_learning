{
  "nbformat": 4,
  "nbformat_minor": 0,
  "metadata": {
    "colab": {
      "provenance": []
    },
    "kernelspec": {
      "name": "python3",
      "display_name": "Python 3"
    },
    "language_info": {
      "name": "python"
    }
  },
  "cells": [
    {
      "cell_type": "code",
      "execution_count": null,
      "metadata": {
        "id": "gEXXt0O_SKpE"
      },
      "outputs": [],
      "source": []
    },
    {
      "cell_type": "markdown",
      "source": [
        "# ***My first program***"
      ],
      "metadata": {
        "id": "Qcuum8yzS7Cy"
      }
    },
    {
      "cell_type": "code",
      "source": [
        "print(\"i am priyanka\")"
      ],
      "metadata": {
        "colab": {
          "base_uri": "https://localhost:8080/"
        },
        "id": "EXKmIGgTTIgQ",
        "outputId": "4336f12f-b57c-40cf-ffa7-d36cc4696675"
      },
      "execution_count": null,
      "outputs": [
        {
          "output_type": "stream",
          "name": "stdout",
          "text": [
            "i am priyanka\n"
          ]
        }
      ]
    },
    {
      "cell_type": "code",
      "source": [
        "a+b"
      ],
      "metadata": {
        "id": "hlXfC-oxUZGo"
      },
      "execution_count": null,
      "outputs": []
    },
    {
      "cell_type": "markdown",
      "source": [
        "**variable declaration**\n",
        "rule 1: variable should always start with an alphabet or _\n",
        "rule 2: variable declaration should not start with some numbers or special characters. ex: 1stnum=5\n",
        "rule 3: variable declaration is case sensitive\n",
        "Name=90\n",
        "NamE=70"
      ],
      "metadata": {
        "id": "7wU4fmuJUjtX"
      }
    },
    {
      "cell_type": "code",
      "source": [
        "a=5\n",
        "b=9\n",
        "sum=a+b\n",
        "print(sum)\n",
        "print(\"sum\")"
      ],
      "metadata": {
        "colab": {
          "base_uri": "https://localhost:8080/"
        },
        "id": "ph4-WdWPUySo",
        "outputId": "c591c757-67f4-49c2-a3b8-fa3050f765bf"
      },
      "execution_count": null,
      "outputs": [
        {
          "output_type": "stream",
          "name": "stdout",
          "text": [
            "14\n",
            "sum\n"
          ]
        }
      ]
    },
    {
      "cell_type": "markdown",
      "source": [
        "Data types"
      ],
      "metadata": {
        "id": "meW29yQYfS9A"
      }
    },
    {
      "cell_type": "code",
      "source": [
        "name=\"priyanka\"\n",
        "print(type(name))"
      ],
      "metadata": {
        "colab": {
          "base_uri": "https://localhost:8080/"
        },
        "id": "KCwyreyjU_of",
        "outputId": "f580faa0-261e-4e96-9787-d9e653057579"
      },
      "execution_count": null,
      "outputs": [
        {
          "output_type": "stream",
          "name": "stdout",
          "text": [
            "<class 'str'>\n"
          ]
        }
      ]
    },
    {
      "cell_type": "code",
      "source": [
        "num1=69\n",
        "num2=44.4\n",
        "num3=5j\n",
        "num4=-66\n",
        "print(type(num1))\n",
        "print(type(num2))\n",
        "print(type(num3))\n",
        "print(type(num4))"
      ],
      "metadata": {
        "id": "QrbmJhLofhUZ",
        "colab": {
          "base_uri": "https://localhost:8080/"
        },
        "outputId": "64e7f7c8-5ab5-4867-b84f-49f3ca27cba9"
      },
      "execution_count": null,
      "outputs": [
        {
          "output_type": "stream",
          "name": "stdout",
          "text": [
            "<class 'int'>\n",
            "<class 'float'>\n",
            "<class 'complex'>\n",
            "<class 'int'>\n"
          ]
        }
      ]
    },
    {
      "cell_type": "code",
      "source": [
        "lis=['kau','123','30.45']\n",
        "type(lis)"
      ],
      "metadata": {
        "colab": {
          "base_uri": "https://localhost:8080/"
        },
        "id": "rYZT70sagyyB",
        "outputId": "12bc2dea-dcaf-412a-d7cc-b78d01fb541c"
      },
      "execution_count": null,
      "outputs": [
        {
          "output_type": "execute_result",
          "data": {
            "text/plain": [
              "list"
            ]
          },
          "metadata": {},
          "execution_count": 9
        }
      ]
    },
    {
      "cell_type": "code",
      "source": [
        "print(lis)"
      ],
      "metadata": {
        "colab": {
          "base_uri": "https://localhost:8080/"
        },
        "id": "PirIv2QJkWU8",
        "outputId": "0a724578-2642-45dd-a2a8-571f037410d0"
      },
      "execution_count": null,
      "outputs": [
        {
          "output_type": "stream",
          "name": "stdout",
          "text": [
            "['kau', '123', '30.45']\n"
          ]
        }
      ]
    },
    {
      "cell_type": "code",
      "source": [
        "lis2=['apple','200','india','apple,']\n",
        "print(len(lis))\n",
        "print(len(lis2))\n",
        "lis3=lis+lis2\n",
        "print(lis3)\n",
        "print(len(lis3))\n"
      ],
      "metadata": {
        "id": "ms0bngGnkaSM",
        "colab": {
          "base_uri": "https://localhost:8080/"
        },
        "outputId": "b1014f01-7b6b-414e-b7b2-ccb442028349"
      },
      "execution_count": null,
      "outputs": [
        {
          "output_type": "stream",
          "name": "stdout",
          "text": [
            "3\n",
            "4\n",
            "['kau', '123', '30.45', 'apple', '200', 'india', 'apple,']\n",
            "7\n"
          ]
        }
      ]
    },
    {
      "cell_type": "code",
      "source": [
        "lis2.append(\"dharwad\")"
      ],
      "metadata": {
        "id": "vouawd5PoLh6"
      },
      "execution_count": null,
      "outputs": []
    },
    {
      "cell_type": "code",
      "source": [
        "lis2"
      ],
      "metadata": {
        "colab": {
          "base_uri": "https://localhost:8080/"
        },
        "id": "O5nuHYORoUur",
        "outputId": "8aa6941f-23cd-478b-8be2-af1eb008b039"
      },
      "execution_count": null,
      "outputs": [
        {
          "output_type": "execute_result",
          "data": {
            "text/plain": [
              "['apple',\n",
              " '200',\n",
              " 'india',\n",
              " 'apple,',\n",
              " 'hubli',\n",
              " 'hubli',\n",
              " 'hubli',\n",
              " 'hubli',\n",
              " 'hubli',\n",
              " 'dharwad']"
            ]
          },
          "metadata": {},
          "execution_count": 23
        }
      ]
    },
    {
      "cell_type": "code",
      "source": [
        "lis2.clear()\n"
      ],
      "metadata": {
        "id": "sSu_zqbTodnR"
      },
      "execution_count": null,
      "outputs": []
    },
    {
      "cell_type": "code",
      "source": [
        "lis=['kk','kle','jhe']\n",
        "lis[0]"
      ],
      "metadata": {
        "colab": {
          "base_uri": "https://localhost:8080/",
          "height": 36
        },
        "id": "xA53Bm9Ho-b8",
        "outputId": "54f5f6d6-b744-481e-e865-d16b979752e3"
      },
      "execution_count": null,
      "outputs": [
        {
          "output_type": "execute_result",
          "data": {
            "text/plain": [
              "'kk'"
            ],
            "application/vnd.google.colaboratory.intrinsic+json": {
              "type": "string"
            }
          },
          "metadata": {},
          "execution_count": 34
        }
      ]
    },
    {
      "cell_type": "code",
      "source": [
        "lis[2]"
      ],
      "metadata": {
        "colab": {
          "base_uri": "https://localhost:8080/",
          "height": 36
        },
        "id": "fV_qMpEXpdML",
        "outputId": "505cebc5-efd2-41e0-cd2c-9d2e83ea844b"
      },
      "execution_count": null,
      "outputs": [
        {
          "output_type": "execute_result",
          "data": {
            "text/plain": [
              "'jhe'"
            ],
            "application/vnd.google.colaboratory.intrinsic+json": {
              "type": "string"
            }
          },
          "metadata": {},
          "execution_count": 35
        }
      ]
    },
    {
      "cell_type": "code",
      "source": [],
      "metadata": {
        "id": "D1SbVInYpg6t"
      },
      "execution_count": null,
      "outputs": []
    },
    {
      "cell_type": "code",
      "source": [
        "lis.sort()\n",
        "lis"
      ],
      "metadata": {
        "colab": {
          "base_uri": "https://localhost:8080/"
        },
        "id": "D8-qtFqGpnx1",
        "outputId": "ec22b6ae-9012-4a22-a50b-678a0106a771"
      },
      "execution_count": null,
      "outputs": [
        {
          "output_type": "execute_result",
          "data": {
            "text/plain": [
              "['jhe', 'kk', 'kle']"
            ]
          },
          "metadata": {},
          "execution_count": 36
        }
      ]
    },
    {
      "cell_type": "code",
      "source": [
        "tuple1=(\"hubli\", \"kle\",\"hubli\")"
      ],
      "metadata": {
        "id": "j8AClA3BqHaA"
      },
      "execution_count": null,
      "outputs": []
    },
    {
      "cell_type": "code",
      "source": [
        "print(type(tuple1))"
      ],
      "metadata": {
        "colab": {
          "base_uri": "https://localhost:8080/"
        },
        "id": "OqqTzEpmrCoz",
        "outputId": "b1b512ba-cd51-4e32-f308-644ad1920790"
      },
      "execution_count": null,
      "outputs": [
        {
          "output_type": "stream",
          "name": "stdout",
          "text": [
            "<class 'tuple'>\n"
          ]
        }
      ]
    },
    {
      "cell_type": "code",
      "source": [
        "tuple2=(\"hubli\")"
      ],
      "metadata": {
        "id": "PjOZDmpKrKqf"
      },
      "execution_count": null,
      "outputs": []
    },
    {
      "cell_type": "code",
      "source": [
        "print(type(tuple2))"
      ],
      "metadata": {
        "colab": {
          "base_uri": "https://localhost:8080/"
        },
        "id": "mbyqfqA-r-CI",
        "outputId": "4d46d055-3933-498c-a698-bc82bb277784"
      },
      "execution_count": null,
      "outputs": [
        {
          "output_type": "stream",
          "name": "stdout",
          "text": [
            "<class 'str'>\n"
          ]
        }
      ]
    },
    {
      "cell_type": "code",
      "source": [
        "tuple21=(\"hubli\",)\n",
        "print(type(tuple21))"
      ],
      "metadata": {
        "colab": {
          "base_uri": "https://localhost:8080/"
        },
        "id": "a72lguY6sA2z",
        "outputId": "d5174f3f-59e5-42f0-c08f-58e2f0b3b51c"
      },
      "execution_count": null,
      "outputs": [
        {
          "output_type": "stream",
          "name": "stdout",
          "text": [
            "<class 'tuple'>\n"
          ]
        }
      ]
    },
    {
      "cell_type": "code",
      "source": [
        "tuple3=(1,2,3,4,5)\n",
        "print(type(tuple3))"
      ],
      "metadata": {
        "id": "oSqtxK7lsSk6",
        "colab": {
          "base_uri": "https://localhost:8080/"
        },
        "outputId": "3370eca6-faf9-4c59-f27d-f8778f39f7a2"
      },
      "execution_count": null,
      "outputs": [
        {
          "output_type": "stream",
          "name": "stdout",
          "text": [
            "<class 'tuple'>\n"
          ]
        }
      ]
    },
    {
      "cell_type": "code",
      "source": [
        "tuple4=(\"asdf\",\"123\",1,1,2,3,5,True)\n",
        "print(type(tuple4))"
      ],
      "metadata": {
        "id": "nYt6Qqjk9Rfs",
        "colab": {
          "base_uri": "https://localhost:8080/"
        },
        "outputId": "a52959a7-6714-476e-a8d2-da524680d847"
      },
      "execution_count": null,
      "outputs": [
        {
          "output_type": "stream",
          "name": "stdout",
          "text": [
            "<class 'tuple'>\n"
          ]
        }
      ]
    },
    {
      "cell_type": "code",
      "source": [
        "tuple1=(\"hubli\", \"belgaum\",\"hubli\")\n",
        "print((tuple1[0]))\n",
        "print((tuple1[1]))\n",
        "print((tuple1[2]))\n",
        "print((tuple1)[-1])"
      ],
      "metadata": {
        "colab": {
          "base_uri": "https://localhost:8080/"
        },
        "id": "GrCTtUYuKijj",
        "outputId": "d095ef7a-055e-4cc5-c7f6-ed7b0f826646"
      },
      "execution_count": null,
      "outputs": [
        {
          "output_type": "stream",
          "name": "stdout",
          "text": [
            "hubli\n",
            "belgaum\n",
            "hubli\n",
            "hubli\n"
          ]
        }
      ]
    },
    {
      "cell_type": "code",
      "source": [
        "tuple6=tuple1+tuple1\n",
        "print(tuple6)"
      ],
      "metadata": {
        "id": "kVuKAE2tMg7M",
        "colab": {
          "base_uri": "https://localhost:8080/"
        },
        "outputId": "a2584d98-3dd3-41ae-9912-cbdae8e590b0"
      },
      "execution_count": null,
      "outputs": [
        {
          "output_type": "stream",
          "name": "stdout",
          "text": [
            "('hubli', 'belgaum', 'hubli', 'hubli', 'belgaum', 'hubli')\n"
          ]
        }
      ]
    },
    {
      "cell_type": "code",
      "source": [
        "tuple7=tuple6*2\n",
        "print(tuple7)\n",
        "y=tuple7.index('hubli')\n",
        "print(y)\n",
        "x=tuple7.count('hubli')\n",
        "print(x)\n"
      ],
      "metadata": {
        "colab": {
          "base_uri": "https://localhost:8080/"
        },
        "id": "hgO_GpYvPf8a",
        "outputId": "01a4a3d2-f4ab-43af-d03f-af96bda1ea39"
      },
      "execution_count": null,
      "outputs": [
        {
          "output_type": "stream",
          "name": "stdout",
          "text": [
            "('hubli', 'belgaum', 'hubli', 'hubli', 'belgaum', 'hubli', 'hubli', 'belgaum', 'hubli', 'hubli', 'belgaum', 'hubli')\n",
            "0\n",
            "8\n"
          ]
        }
      ]
    },
    {
      "cell_type": "code",
      "source": [
        "x=(\"hubli\",\"belgaum\",\"blore\")\n",
        "print(type(x))"
      ],
      "metadata": {
        "colab": {
          "base_uri": "https://localhost:8080/"
        },
        "id": "lh1VA6JePpOh",
        "outputId": "e0af6797-564d-4e41-b796-ee593584a849"
      },
      "execution_count": null,
      "outputs": [
        {
          "output_type": "stream",
          "name": "stdout",
          "text": [
            "<class 'tuple'>\n"
          ]
        }
      ]
    },
    {
      "cell_type": "code",
      "source": [
        "y=list(x)\n",
        "y[2]=\"mumbai\"\n",
        "x=tuple(y)\n",
        "print(x)"
      ],
      "metadata": {
        "colab": {
          "base_uri": "https://localhost:8080/"
        },
        "id": "WBZyg4CbRQRY",
        "outputId": "954c15c4-d677-43c0-c3b0-520153c4e54c"
      },
      "execution_count": null,
      "outputs": [
        {
          "output_type": "stream",
          "name": "stdout",
          "text": [
            "('hubli', 'belgaum', 'mumbai')\n"
          ]
        }
      ]
    },
    {
      "cell_type": "code",
      "source": [
        "set1={\"red\",\"blue\",\"black\",\"red\"}\n",
        "print(set1)\n",
        "set1.add('orange')\n",
        "print(set1)\n",
        "set2={\"ball\",\"bat\",\"wicket\"}\n",
        "set1.update(set2)\n",
        "print(set1)\n"
      ],
      "metadata": {
        "colab": {
          "base_uri": "https://localhost:8080/"
        },
        "id": "cnEByfHrRv2o",
        "outputId": "f7e805f1-dd7d-475c-dc83-247f0c00626a"
      },
      "execution_count": null,
      "outputs": [
        {
          "output_type": "stream",
          "name": "stdout",
          "text": [
            "{'red', 'blue', 'black'}\n",
            "{'red', 'blue', 'black', 'orange'}\n",
            "{'red', 'blue', 'bat', 'wicket', 'orange', 'ball', 'black'}\n"
          ]
        }
      ]
    },
    {
      "cell_type": "code",
      "source": [
        "dict1={ \"name\":\"priyanka\",\n",
        "        \"age\":\"20\",\n",
        "        \"gender\":\"female\",\n",
        "        \"year\":\"2022\",\n",
        "        \"year\":\"2015\"}\n",
        "print(dict1)"
      ],
      "metadata": {
        "colab": {
          "base_uri": "https://localhost:8080/"
        },
        "id": "-70EpRsbUMPz",
        "outputId": "f782b51d-d630-4a59-c3a9-c11fd6b72420"
      },
      "execution_count": null,
      "outputs": [
        {
          "output_type": "stream",
          "name": "stdout",
          "text": [
            "{'name': 'priyanka', 'age': '20', 'gender': 'female', 'year': '2015'}\n"
          ]
        }
      ]
    },
    {
      "cell_type": "code",
      "source": [
        "print(type(dict1))"
      ],
      "metadata": {
        "colab": {
          "base_uri": "https://localhost:8080/"
        },
        "id": "VRdMyk3gXD5b",
        "outputId": "7dc2ae0c-966c-4a8e-ca45-569a08e69666"
      },
      "execution_count": null,
      "outputs": [
        {
          "output_type": "stream",
          "name": "stdout",
          "text": [
            "<class 'dict'>\n"
          ]
        }
      ]
    },
    {
      "cell_type": "code",
      "source": [
        "dict2=dict(fruit=\"banana\",dessert=\"cake\")\n",
        "print(dict2)\n",
        "print(type(dict2))"
      ],
      "metadata": {
        "colab": {
          "base_uri": "https://localhost:8080/"
        },
        "id": "x3oib9hEXX6X",
        "outputId": "1d6d5e0c-63da-401d-b66b-aa6465c5460f"
      },
      "execution_count": null,
      "outputs": [
        {
          "output_type": "stream",
          "name": "stdout",
          "text": [
            "{'fruit': 'banana', 'dessert': 'cake'}\n",
            "<class 'dict'>\n"
          ]
        }
      ]
    },
    {
      "cell_type": "code",
      "source": [],
      "metadata": {
        "id": "B9gmixJTYJEQ"
      },
      "execution_count": null,
      "outputs": []
    },
    {
      "cell_type": "markdown",
      "source": [
        "looping"
      ],
      "metadata": {
        "id": "fzQ6t1ASY5Sp"
      }
    },
    {
      "cell_type": "code",
      "source": [
        "a=input(\"enter the value of a\")\n",
        "b=input(\"enter the value of b\")\n",
        "print(a)\n",
        "print(b)"
      ],
      "metadata": {
        "colab": {
          "base_uri": "https://localhost:8080/"
        },
        "id": "Fgg-MDxwY-y5",
        "outputId": "efe5b042-15a1-46f2-9815-50f2c8ba2a73"
      },
      "execution_count": null,
      "outputs": [
        {
          "output_type": "stream",
          "name": "stdout",
          "text": [
            "enter the value of a2\n",
            "enter the value of b3\n",
            "2\n",
            "3\n"
          ]
        }
      ]
    },
    {
      "cell_type": "code",
      "source": [
        "if a>b:\n",
        "  print(\"the value of a is greater than b\")\n",
        "if a==b:\n",
        "  print(\"both a and b are same\")\n",
        "else:\n",
        "  print(\"b is greater than a\")"
      ],
      "metadata": {
        "colab": {
          "base_uri": "https://localhost:8080/"
        },
        "id": "o0Eocts0ZODf",
        "outputId": "362a542a-ba32-4135-93c6-ac16a630f973"
      },
      "execution_count": null,
      "outputs": [
        {
          "output_type": "stream",
          "name": "stdout",
          "text": [
            "b is greater than a\n"
          ]
        }
      ]
    },
    {
      "cell_type": "code",
      "source": [
        "ball1_colour=\"green\"\n",
        "ball2_colour=\"blue\"\n",
        "ball3_colour=\"red\"\n",
        "ball4_colour=\"white\"\n",
        "\n",
        "pick_ball=input(\"please pick a ball\")\n",
        "\n",
        "if pick_ball==ball1_colour:\n",
        "  print(\"green ball is picked\")\n",
        "\n",
        "elif pick_ball==ball2_colour:\n",
        "  print(\"blue ball is picked\")\n",
        "\n",
        "elif pick_ball==ball3_colour:\n",
        "  print(\"red ball is picked\")\n",
        "\n",
        "else :\n",
        "  print(\"white ball is picked\")"
      ],
      "metadata": {
        "id": "9vei-Y-KZ3V0",
        "colab": {
          "base_uri": "https://localhost:8080/"
        },
        "outputId": "df207bae-21a2-42fa-a709-77c38b1a5552"
      },
      "execution_count": 5,
      "outputs": [
        {
          "output_type": "stream",
          "name": "stdout",
          "text": [
            "please pick a ballwhite\n",
            "white ball is picked\n"
          ]
        }
      ]
    },
    {
      "cell_type": "code",
      "source": [],
      "metadata": {
        "id": "DmFpLSzH9VWI"
      },
      "execution_count": null,
      "outputs": []
    },
    {
      "cell_type": "markdown",
      "source": [
        "**python operators arithematic operators**"
      ],
      "metadata": {
        "id": "UZCj1MrF_Fm4"
      }
    },
    {
      "cell_type": "code",
      "source": [
        "x=12\n",
        "y=4\n",
        "\n",
        "sum =x+y\n",
        "diff=x-y\n",
        "prod=x*y\n",
        "div=x/y\n",
        "fdiv=x//y\n",
        "mod=x%y\n",
        "power=x**y\n",
        "print(sum)\n",
        "print(diff)\n",
        "print(prod)\n",
        "print(div)\n",
        "print(fdiv)\n",
        "print(mod)\n",
        "print(power)"
      ],
      "metadata": {
        "colab": {
          "base_uri": "https://localhost:8080/"
        },
        "id": "F8Yql6sj_P8e",
        "outputId": "56ab15c5-7b62-49c4-bb6a-30094ae88001"
      },
      "execution_count": 7,
      "outputs": [
        {
          "output_type": "stream",
          "name": "stdout",
          "text": [
            "16\n",
            "8\n",
            "48\n",
            "3.0\n",
            "3\n",
            "0\n",
            "20736\n"
          ]
        }
      ]
    },
    {
      "cell_type": "code",
      "source": [],
      "metadata": {
        "id": "wk4sJvXk_00A"
      },
      "execution_count": null,
      "outputs": []
    },
    {
      "cell_type": "markdown",
      "source": [
        "logical and comparison operators"
      ],
      "metadata": {
        "id": "RI7Y5AVhBaKX"
      }
    },
    {
      "cell_type": "code",
      "source": [
        "age=int(input(\"enter the age\"))\n",
        "print(age>18 and age<60)\n",
        "print(age>18 or age<21)"
      ],
      "metadata": {
        "colab": {
          "base_uri": "https://localhost:8080/"
        },
        "id": "U1Pq_VeHBeVO",
        "outputId": "82b23d20-d3f3-4805-9050-16bcefc23a96"
      },
      "execution_count": 13,
      "outputs": [
        {
          "output_type": "stream",
          "name": "stdout",
          "text": [
            "enter the age19\n",
            "True\n",
            "True\n"
          ]
        }
      ]
    },
    {
      "cell_type": "code",
      "source": [],
      "metadata": {
        "id": "MIIqWUdACKQF"
      },
      "execution_count": null,
      "outputs": []
    }
  ]
}