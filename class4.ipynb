{
  "nbformat": 4,
  "nbformat_minor": 0,
  "metadata": {
    "colab": {
      "provenance": []
    },
    "kernelspec": {
      "name": "python3",
      "display_name": "Python 3"
    },
    "language_info": {
      "name": "python"
    }
  },
  "cells": [
    {
      "cell_type": "code",
      "execution_count": null,
      "metadata": {
        "id": "eWxpQTdHjSgM"
      },
      "outputs": [],
      "source": []
    },
    {
      "cell_type": "markdown",
      "source": [
        "functions\n",
        "define function\n",
        "invoking function\n",
        "passing the arguments     "
      ],
      "metadata": {
        "id": "S56QJ7C0jaG7"
      }
    },
    {
      "cell_type": "code",
      "source": [
        "def cake_baker(p,f,s):\n",
        "  print(\"no of pieces=\",p)\n",
        "  print(\"flavour=\",f)\n",
        "  print(\"si9ze==\",s)\n",
        "\n",
        "cake_baker(\"5 \", \"chocolate\",\"2kg\")\n",
        "cake_baker(\"100 \", \"vanilla\",\"3kg\")"
      ],
      "metadata": {
        "colab": {
          "base_uri": "https://localhost:8080/"
        },
        "id": "KnpptD44jx7d",
        "outputId": "9c1fe4a9-2942-4abf-9164-82cbc1db2d89"
      },
      "execution_count": 1,
      "outputs": [
        {
          "output_type": "stream",
          "name": "stdout",
          "text": [
            "no of pieces= 5 \n",
            "flavour= chocolate\n",
            "si9ze== 2kg\n",
            "no of pieces= 100 \n",
            "flavour= vanilla\n",
            "si9ze== 3kg\n"
          ]
        }
      ]
    },
    {
      "cell_type": "code",
      "source": [],
      "metadata": {
        "id": "QOLsRsNUkuMc"
      },
      "execution_count": null,
      "outputs": []
    },
    {
      "cell_type": "code",
      "source": [
        "def add(*args):\n",
        "  sum=0\n",
        "  for i in args:\n",
        "    sum+=i\n",
        "  return sum\n",
        "print(add(1,2,3,4,5))"
      ],
      "metadata": {
        "colab": {
          "base_uri": "https://localhost:8080/"
        },
        "id": "1iwJmLz_mJs3",
        "outputId": "bbaf61cb-61eb-4feb-d750-e4ceefac94f0"
      },
      "execution_count": 2,
      "outputs": [
        {
          "output_type": "stream",
          "name": "stdout",
          "text": [
            "15\n"
          ]
        }
      ]
    },
    {
      "cell_type": "code",
      "source": [
        "def greet(**kwargs):\n",
        "  print(\"hello\")\n",
        "  for key, value in kwargs.items():\n",
        "    print(value)\n",
        "\n",
        "greet(name=\"priyanka\", usn=\"01fe21bec007\", branch=\"ece\")"
      ],
      "metadata": {
        "colab": {
          "base_uri": "https://localhost:8080/"
        },
        "id": "x19rywDomiTA",
        "outputId": "e685ae0c-c769-4a68-fe97-46826fc716e6"
      },
      "execution_count": 3,
      "outputs": [
        {
          "output_type": "stream",
          "name": "stdout",
          "text": [
            "hello\n",
            "priyanka\n",
            "01fe21bec007\n",
            "ece\n"
          ]
        }
      ]
    },
    {
      "cell_type": "code",
      "source": [
        "def greet(**kwargs):\n",
        "  print(\"hello\")\n",
        "  for key, value in kwargs.items():\n",
        "    print(value,end=\" \")\n",
        "\n",
        "greet(name=\"priyanka\", usn=\"01fe21bec007\", branch=\"ece\")"
      ],
      "metadata": {
        "colab": {
          "base_uri": "https://localhost:8080/"
        },
        "id": "ujKQlsM1nfWE",
        "outputId": "6860c6b5-3bda-4280-8624-dababe64a481"
      },
      "execution_count": 4,
      "outputs": [
        {
          "output_type": "stream",
          "name": "stdout",
          "text": [
            "hello\n",
            "priyanka 01fe21bec007 ece "
          ]
        }
      ]
    },
    {
      "cell_type": "code",
      "source": [
        "import random\n",
        "\n",
        "x=random.randint(1,9)\n",
        "print(x)\n",
        "\n",
        "a=random.random()\n",
        "print(a)"
      ],
      "metadata": {
        "colab": {
          "base_uri": "https://localhost:8080/"
        },
        "id": "aG2S2s9snnpq",
        "outputId": "a863dc94-0a30-4784-914f-5a4977acfc63"
      },
      "execution_count": 13,
      "outputs": [
        {
          "output_type": "stream",
          "name": "stdout",
          "text": [
            "6\n",
            "0.4089759412401671\n"
          ]
        }
      ]
    },
    {
      "cell_type": "code",
      "source": [
        "import random\n",
        "\n",
        "computer=random.randint(1,9)\n",
        "userinput= int(input(\"enter the number between 1 and 9\"))\n",
        "print(computer)\n",
        "print(userinput)\n",
        "\n",
        "if computer>userinput:\n",
        "  print(\"computer won\")\n",
        "\n",
        "elif computer==userinput:\n",
        "  print(\"tie\")\n",
        "\n",
        "else:\n",
        "  print(\"you won\")\n",
        ""
      ],
      "metadata": {
        "colab": {
          "base_uri": "https://localhost:8080/"
        },
        "id": "uxvoYbNxpLk_",
        "outputId": "3207ca33-5cd9-48e0-b577-6a1e1968d424"
      },
      "execution_count": 20,
      "outputs": [
        {
          "output_type": "stream",
          "name": "stdout",
          "text": [
            "enter the number between 1 and 95\n",
            "1\n",
            "5\n",
            "you won\n"
          ]
        }
      ]
    },
    {
      "cell_type": "code",
      "source": [
        "from math import e\n",
        "import random\n",
        "gamelist=['rock','paper','scissors']\n",
        "comp=random.choice(gamelist)\n",
        "user=input(\"enter either rock or paper or scissor\")\n",
        "print(comp)\n",
        "print(user)\n",
        "\n",
        "if(comp==\"rock\" and user==\"paper\"):\n",
        "  print(\"user won\")\n",
        "elif(comp==\"paper\" and user==\"scissor\"):\n",
        "  print(\"user won\")\n",
        "elif(comp==\"scissor\" and user==\"paper\"):\n",
        "  print(\"comp won\")\n",
        "elif(comp==\"paper\" and user==\"rock\"):\n",
        "  print(\"comp won\")\n",
        "else:\n",
        "  print(\"tie\")\n"
      ],
      "metadata": {
        "colab": {
          "base_uri": "https://localhost:8080/"
        },
        "id": "FsyYvZPRqgR1",
        "outputId": "eb92990d-52ad-4a83-fac1-2a6154cfd447"
      },
      "execution_count": 27,
      "outputs": [
        {
          "output_type": "stream",
          "name": "stdout",
          "text": [
            "enter either rock or paper or scissorscissor\n",
            "paper\n",
            "scissor\n",
            "user won\n"
          ]
        }
      ]
    },
    {
      "cell_type": "code",
      "source": [
        "\n"
      ],
      "metadata": {
        "id": "uPfzwhnvw-QO"
      },
      "execution_count": 21,
      "outputs": []
    },
    {
      "cell_type": "markdown",
      "source": [
        "numpy-numerical python"
      ],
      "metadata": {
        "id": "7ausmjnDyKYq"
      }
    },
    {
      "cell_type": "code",
      "source": [
        "import numpy as np\n",
        "a=np.array([35,1,34,36,27,48,49])\n",
        "print(type(a))\n",
        "\n",
        "b=np.zeros(3)\n",
        "c=np.ones(4)\n",
        "\n",
        "print(b)\n",
        "print(c)\n",
        "\n",
        "d=np.sort(a)\n",
        "print(d)"
      ],
      "metadata": {
        "colab": {
          "base_uri": "https://localhost:8080/"
        },
        "id": "vk95PlmpyPUM",
        "outputId": "d51e5830-befa-4e55-8b10-1ef4abd47e4f"
      },
      "execution_count": 29,
      "outputs": [
        {
          "output_type": "stream",
          "name": "stdout",
          "text": [
            "<class 'numpy.ndarray'>\n",
            "[0. 0. 0.]\n",
            "[1. 1. 1. 1.]\n",
            "[ 1 27 34 35 36 48 49]\n"
          ]
        }
      ]
    },
    {
      "cell_type": "code",
      "source": [],
      "metadata": {
        "id": "zJiksEPvzJPP"
      },
      "execution_count": null,
      "outputs": []
    }
  ]
}