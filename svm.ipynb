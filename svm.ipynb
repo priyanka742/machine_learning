{
  "nbformat": 4,
  "nbformat_minor": 0,
  "metadata": {
    "colab": {
      "provenance": [],
      "authorship_tag": "ABX9TyNAmnH0V02Xj7GVLdjYL1IT",
      "include_colab_link": true
    },
    "kernelspec": {
      "name": "python3",
      "display_name": "Python 3"
    },
    "language_info": {
      "name": "python"
    }
  },
  "cells": [
    {
      "cell_type": "markdown",
      "metadata": {
        "id": "view-in-github",
        "colab_type": "text"
      },
      "source": [
        "<a href=\"https://colab.research.google.com/github/priyanka742/machine_learning/blob/main/svm.ipynb\" target=\"_parent\"><img src=\"https://colab.research.google.com/assets/colab-badge.svg\" alt=\"Open In Colab\"/></a>"
      ]
    },
    {
      "cell_type": "code",
      "execution_count": 27,
      "metadata": {
        "colab": {
          "base_uri": "https://localhost:8080/",
          "height": 521
        },
        "id": "xxNALMDY4mU1",
        "outputId": "6a0093fa-1cdd-4581-de43-0f0e582bf09b"
      },
      "outputs": [
        {
          "output_type": "stream",
          "name": "stdout",
          "text": [
            "Accuracy: 0.00%\n"
          ]
        },
        {
          "output_type": "stream",
          "name": "stderr",
          "text": [
            "/usr/local/lib/python3.10/dist-packages/sklearn/base.py:439: UserWarning: X does not have valid feature names, but SVC was fitted with feature names\n",
            "  warnings.warn(\n"
          ]
        },
        {
          "output_type": "display_data",
          "data": {
            "text/plain": [
              "<Figure size 640x480 with 1 Axes>"
            ],
            "image/png": "[encoded data removed]"
          },
          "metadata": {}
        }
      ],
      "source": [
        "import pandas as pd\n",
        "import matplotlib.pyplot as plt\n",
        "from sklearn.svm import SVC\n",
        "from sklearn.model_selection import train_test_split\n",
        "from sklearn.metrics import accuracy_score\n",
        "from sklearn.datasets import load_breast_cancer\n",
        "from sklearn.inspection import DecisionBoundaryDisplay\n",
        "\n",
        "# Read the data from an Excel sheet\n",
        "data = pd.read_excel('/content/new2.xlsx')\n",
        "\n",
        "# Split the data into features (X) and labels (y)\n",
        "X = data[['X1', 'X2']]\n",
        "y = data['Label_column']  # Replace 'Label_column' with the actual name of your label column\n",
        "\n",
        "# Split the data into training and testing sets\n",
        "X_train, X_test, y_train, y_test = train_test_split(X, y, test_size=0.2, random_state=42)\n",
        "\n",
        "# Create an SVM classifier (you can choose the kernel and other hyperparameters)\n",
        "clf = SVC(kernel='linear')\n",
        "\n",
        "# Train the SVM classifier on the training data\n",
        "clf.fit(X_train, y_train)\n",
        "\n",
        "# Make predictions on the test data\n",
        "y_pred = clf.predict(X_test)\n",
        "\n",
        "# Calculate the accuracy of the model\n",
        "accuracy = accuracy_score(y_test, y_pred)\n",
        "print(f'Accuracy: {accuracy * 100:.2f}%')\n",
        "\n",
        "# Plot Decision Boundary\n",
        "DecisionBoundaryDisplay.from_estimator(\n",
        "    clf,\n",
        "    X.values,\n",
        "    response_method=\"predict\",\n",
        "    cmap=plt.cm.Spectral,\n",
        "    alpha=0.8,\n",
        "    xlabel='X1',\n",
        "    ylabel='X2',\n",
        ")\n",
        "\n",
        "# Scatter plot\n",
        "plt.scatter(X['X1'], X['X2'], c=y, s=20, edgecolors=\"k\")\n",
        "plt.show()"
      ]
    },
    {
      "cell_type": "code",
      "source": [
        "import numpy as np\n",
        "import matplotlib.pyplot as plt\n",
        "import pandas as pd  # Import pandas to read Excel data\n",
        "from sklearn import svm\n",
        "\n",
        "# Read data from an existing Excel sheet\n",
        "excel_file = 'your_excel_file.xlsx'  # Replace with your Excel file path\n",
        "df = pd.read_excel(excel_file)\n",
        "\n",
        "# Assuming your Excel sheet has two columns 'Feature1' and 'Feature2' for the input features and a 'Label' column for the target variable\n",
        "X = df[['Feature1', 'Feature2']].values\n",
        "y = df['Label'].values\n",
        "\n",
        "# Create an SVM classifier with a linear kernel\n",
        "clf = svm.SVC(kernel='linear')\n",
        "\n",
        "# Fit the classifier on the data\n",
        "clf.fit(X, y)\n",
        "\n",
        "# Get the support vectors and plot them\n",
        "support_vectors = clf.support_vectors_\n",
        "plt.scatter(X[:, 0], X[:, 1], c=y, cmap=plt.cm.Paired)\n",
        "plt.scatter(support_vectors[:, 0], support_vectors[:, 1], s=100, facecolors='none', edgecolors='k')\n",
        "plt.xlabel('Feature 1')\n",
        "plt.ylabel('Feature 2')\n",
        "\n",
        "# Plot the decision boundary\n",
        "ax = plt.gca()\n",
        "xlim = ax.get_xlim()\n",
        "ylim = ax.get_ylim()\n",
        "\n",
        "# Create a grid to evaluate the classifier\n",
        "xx, yy = np.meshgrid(np.linspace(xlim[0], xlim[1], 50), np.linspace(ylim[0], ylim[1], 50))\n",
        "Z = clf.decision_function(np.c_[xx.ravel(), yy.ravel()])\n",
        "Z = Z.reshape(xx.shape)\n",
        "\n",
        "# Plot decision boundary and margins\n",
        "ax.contour(xx, yy, Z, colors='k', levels=[-1, 0, 1], alpha=0.5, linestyles=['--', '-', '--'])\n",
        "plt.title('SVM Decision Boundary')\n",
        "plt.show()\n"
      ],
      "metadata": {
        "id": "19Qhv--f6bOe"
      },
      "execution_count": 18,
      "outputs": []
    },
    {
      "cell_type": "code",
      "source": [],
      "metadata": {
        "id": "BHgNdaO3_32B"
      },
      "execution_count": null,
      "outputs": []
    }
  ]
}